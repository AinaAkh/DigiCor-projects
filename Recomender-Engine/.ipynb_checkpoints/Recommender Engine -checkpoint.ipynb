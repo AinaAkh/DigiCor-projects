{
 "cells": [
  {
   "cell_type": "markdown",
   "metadata": {},
   "source": [
    "### Product Recomender Engine\n",
    "\n",
    "**Developer:** Mayana Mohsin Khan <br/>\n",
    "\n",
    "**Date Created:** 30th December 2020 <br/>\n",
    "**Date Modified:** 1st January 2021"
   ]
  },
  {
   "cell_type": "markdown",
   "metadata": {},
   "source": [
    "### Packages"
   ]
  },
  {
   "cell_type": "code",
   "execution_count": 12,
   "metadata": {},
   "outputs": [],
   "source": [
    "import pandas as pd\n",
    "import numpy as np\n",
    "from sklearn.feature_extraction.text import TfidfVectorizer\n",
    "from sklearn.metrics.pairwise import linear_kernel\n",
    "import openpyxl"
   ]
  },
  {
   "cell_type": "markdown",
   "metadata": {},
   "source": [
    "### Load Dataset"
   ]
  },
  {
   "cell_type": "code",
   "execution_count": 14,
   "metadata": {},
   "outputs": [
    {
     "data": {
      "text/html": [
       "<div>\n",
       "<style scoped>\n",
       "    .dataframe tbody tr th:only-of-type {\n",
       "        vertical-align: middle;\n",
       "    }\n",
       "\n",
       "    .dataframe tbody tr th {\n",
       "        vertical-align: top;\n",
       "    }\n",
       "\n",
       "    .dataframe thead th {\n",
       "        text-align: right;\n",
       "    }\n",
       "</style>\n",
       "<table border=\"1\" class=\"dataframe\">\n",
       "  <thead>\n",
       "    <tr style=\"text-align: right;\">\n",
       "      <th></th>\n",
       "      <th>boms_id</th>\n",
       "      <th>partner</th>\n",
       "      <th>desc</th>\n",
       "      <th>product_id</th>\n",
       "      <th>name</th>\n",
       "      <th>chassis</th>\n",
       "      <th>motherboard</th>\n",
       "      <th>form_factor</th>\n",
       "      <th>led_indicators</th>\n",
       "      <th>on_off_switch</th>\n",
       "      <th>...</th>\n",
       "      <th>Intel® Build Assurance Technology</th>\n",
       "      <th>Intel® Efficient Power Technology</th>\n",
       "      <th>Intel® Quiet Thermal Technology</th>\n",
       "      <th>intel_virtual_technology_for_directed_i/o</th>\n",
       "      <th>Intel® Rapid Storage Technology enterprise</th>\n",
       "      <th>Intel® Quiet System Technology</th>\n",
       "      <th>Intel® Fast Memory Access</th>\n",
       "      <th>Intel® Flex Memory Access</th>\n",
       "      <th>TPM Version</th>\n",
       "      <th>Intel® Transparent Supply Chain</th>\n",
       "    </tr>\n",
       "  </thead>\n",
       "  <tbody>\n",
       "    <tr>\n",
       "      <th>0</th>\n",
       "      <td>26</td>\n",
       "      <td>supermicro</td>\n",
       "      <td>826BE1C4-R1K23LPB + X11DPi-N</td>\n",
       "      <td>NaN</td>\n",
       "      <td>D2123-DS228-MDR</td>\n",
       "      <td>CSE-826BE1C4-R1K23LPB</td>\n",
       "      <td>MBD-X11DPi-N</td>\n",
       "      <td>2U</td>\n",
       "      <td>NaN</td>\n",
       "      <td>NaN</td>\n",
       "      <td>...</td>\n",
       "      <td>NaN</td>\n",
       "      <td>NaN</td>\n",
       "      <td>NaN</td>\n",
       "      <td>NaN</td>\n",
       "      <td>NaN</td>\n",
       "      <td>NaN</td>\n",
       "      <td>NaN</td>\n",
       "      <td>NaN</td>\n",
       "      <td>NaN</td>\n",
       "      <td>NaN</td>\n",
       "    </tr>\n",
       "    <tr>\n",
       "      <th>1</th>\n",
       "      <td>28</td>\n",
       "      <td>supermicro</td>\n",
       "      <td>847BE1C4-R1K23LPB + X11DPi-N</td>\n",
       "      <td>NaN</td>\n",
       "      <td>D4363-DS228-MDR</td>\n",
       "      <td>CSE-847BE1C4-R1K23LPB</td>\n",
       "      <td>MBD-X11DPi-N</td>\n",
       "      <td>4U</td>\n",
       "      <td>NaN</td>\n",
       "      <td>NaN</td>\n",
       "      <td>...</td>\n",
       "      <td>NaN</td>\n",
       "      <td>NaN</td>\n",
       "      <td>NaN</td>\n",
       "      <td>NaN</td>\n",
       "      <td>NaN</td>\n",
       "      <td>NaN</td>\n",
       "      <td>NaN</td>\n",
       "      <td>NaN</td>\n",
       "      <td>NaN</td>\n",
       "      <td>NaN</td>\n",
       "    </tr>\n",
       "    <tr>\n",
       "      <th>2</th>\n",
       "      <td>31</td>\n",
       "      <td>supermicro</td>\n",
       "      <td>825TQC-R1K03LPB + X11DPi-N</td>\n",
       "      <td>NaN</td>\n",
       "      <td>D283-DS228-MDR</td>\n",
       "      <td>CSE-825TQC-R1K03LPB</td>\n",
       "      <td>MBD-X11DPi-N</td>\n",
       "      <td>2U</td>\n",
       "      <td>NaN</td>\n",
       "      <td>NaN</td>\n",
       "      <td>...</td>\n",
       "      <td>NaN</td>\n",
       "      <td>NaN</td>\n",
       "      <td>NaN</td>\n",
       "      <td>NaN</td>\n",
       "      <td>NaN</td>\n",
       "      <td>NaN</td>\n",
       "      <td>NaN</td>\n",
       "      <td>NaN</td>\n",
       "      <td>NaN</td>\n",
       "      <td>NaN</td>\n",
       "    </tr>\n",
       "    <tr>\n",
       "      <th>3</th>\n",
       "      <td>32</td>\n",
       "      <td>supermicro</td>\n",
       "      <td>836BE1C-R1K23B + X11DPi-N</td>\n",
       "      <td>NaN</td>\n",
       "      <td>D3163-DS228-MDR</td>\n",
       "      <td>CSE-836BE1C-R1K23B</td>\n",
       "      <td>MBD-X11DPi-N</td>\n",
       "      <td>3U</td>\n",
       "      <td>NaN</td>\n",
       "      <td>NaN</td>\n",
       "      <td>...</td>\n",
       "      <td>NaN</td>\n",
       "      <td>NaN</td>\n",
       "      <td>NaN</td>\n",
       "      <td>NaN</td>\n",
       "      <td>NaN</td>\n",
       "      <td>NaN</td>\n",
       "      <td>NaN</td>\n",
       "      <td>NaN</td>\n",
       "      <td>NaN</td>\n",
       "      <td>NaN</td>\n",
       "    </tr>\n",
       "    <tr>\n",
       "      <th>4</th>\n",
       "      <td>33</td>\n",
       "      <td>supermicro</td>\n",
       "      <td>846BE1C-R1K23B + X11DPi-N</td>\n",
       "      <td>NaN</td>\n",
       "      <td>D4243-DS228-MDR</td>\n",
       "      <td>CSE-846BE1C-R1K23B</td>\n",
       "      <td>MBD-X11DPi-N</td>\n",
       "      <td>4U</td>\n",
       "      <td>NaN</td>\n",
       "      <td>NaN</td>\n",
       "      <td>...</td>\n",
       "      <td>NaN</td>\n",
       "      <td>NaN</td>\n",
       "      <td>NaN</td>\n",
       "      <td>NaN</td>\n",
       "      <td>NaN</td>\n",
       "      <td>NaN</td>\n",
       "      <td>NaN</td>\n",
       "      <td>NaN</td>\n",
       "      <td>NaN</td>\n",
       "      <td>NaN</td>\n",
       "    </tr>\n",
       "  </tbody>\n",
       "</table>\n",
       "<p>5 rows × 146 columns</p>\n",
       "</div>"
      ],
      "text/plain": [
       "   boms_id     partner                          desc  product_id  \\\n",
       "0       26  supermicro  826BE1C4-R1K23LPB + X11DPi-N         NaN   \n",
       "1       28  supermicro  847BE1C4-R1K23LPB + X11DPi-N         NaN   \n",
       "2       31  supermicro    825TQC-R1K03LPB + X11DPi-N         NaN   \n",
       "3       32  supermicro     836BE1C-R1K23B + X11DPi-N         NaN   \n",
       "4       33  supermicro     846BE1C-R1K23B + X11DPi-N         NaN   \n",
       "\n",
       "              name                chassis   motherboard form_factor  \\\n",
       "0  D2123-DS228-MDR  CSE-826BE1C4-R1K23LPB  MBD-X11DPi-N          2U   \n",
       "1  D4363-DS228-MDR  CSE-847BE1C4-R1K23LPB  MBD-X11DPi-N          4U   \n",
       "2   D283-DS228-MDR    CSE-825TQC-R1K03LPB  MBD-X11DPi-N          2U   \n",
       "3  D3163-DS228-MDR     CSE-836BE1C-R1K23B  MBD-X11DPi-N          3U   \n",
       "4  D4243-DS228-MDR     CSE-846BE1C-R1K23B  MBD-X11DPi-N          4U   \n",
       "\n",
       "  led_indicators on_off_switch  ...  Intel® Build Assurance Technology  \\\n",
       "0            NaN           NaN  ...                                NaN   \n",
       "1            NaN           NaN  ...                                NaN   \n",
       "2            NaN           NaN  ...                                NaN   \n",
       "3            NaN           NaN  ...                                NaN   \n",
       "4            NaN           NaN  ...                                NaN   \n",
       "\n",
       "  Intel® Efficient Power Technology Intel® Quiet Thermal Technology  \\\n",
       "0                               NaN                             NaN   \n",
       "1                               NaN                             NaN   \n",
       "2                               NaN                             NaN   \n",
       "3                               NaN                             NaN   \n",
       "4                               NaN                             NaN   \n",
       "\n",
       "  intel_virtual_technology_for_directed_i/o  \\\n",
       "0                                       NaN   \n",
       "1                                       NaN   \n",
       "2                                       NaN   \n",
       "3                                       NaN   \n",
       "4                                       NaN   \n",
       "\n",
       "  Intel® Rapid Storage Technology enterprise  Intel® Quiet System Technology  \\\n",
       "0                                        NaN                             NaN   \n",
       "1                                        NaN                             NaN   \n",
       "2                                        NaN                             NaN   \n",
       "3                                        NaN                             NaN   \n",
       "4                                        NaN                             NaN   \n",
       "\n",
       "  Intel® Fast Memory Access Intel® Flex Memory Access TPM Version  \\\n",
       "0                       NaN                       NaN         NaN   \n",
       "1                       NaN                       NaN         NaN   \n",
       "2                       NaN                       NaN         NaN   \n",
       "3                       NaN                       NaN         NaN   \n",
       "4                       NaN                       NaN         NaN   \n",
       "\n",
       "  Intel® Transparent Supply Chain  \n",
       "0                             NaN  \n",
       "1                             NaN  \n",
       "2                             NaN  \n",
       "3                             NaN  \n",
       "4                             NaN  \n",
       "\n",
       "[5 rows x 146 columns]"
      ]
     },
     "execution_count": 14,
     "metadata": {},
     "output_type": "execute_result"
    }
   ],
   "source": [
    "data = pd.read_excel('specifications.xlsx')\n",
    "data.drop([col for col in data.columns if \"Unnamed\" in col], axis=1, inplace=True)\n",
    "data['partner'] = data['partner'].fillna('intel')\n",
    "data.head()"
   ]
  },
  {
   "cell_type": "markdown",
   "metadata": {},
   "source": [
    "### Feature Engineering"
   ]
  },
  {
   "cell_type": "code",
   "execution_count": 15,
   "metadata": {},
   "outputs": [],
   "source": [
    "def drop_nan_col(df, threshold): \n",
    "    for i in df.columns:\n",
    "        if (float(df[i].isnull().sum())/df[i].shape[0]) > threshold:\n",
    "            df = df.drop(i, axis=1) \n",
    "    return df"
   ]
  },
  {
   "cell_type": "code",
   "execution_count": 16,
   "metadata": {},
   "outputs": [
    {
     "data": {
      "text/html": [
       "<div>\n",
       "<style scoped>\n",
       "    .dataframe tbody tr th:only-of-type {\n",
       "        vertical-align: middle;\n",
       "    }\n",
       "\n",
       "    .dataframe tbody tr th {\n",
       "        vertical-align: top;\n",
       "    }\n",
       "\n",
       "    .dataframe thead th {\n",
       "        text-align: right;\n",
       "    }\n",
       "</style>\n",
       "<table border=\"1\" class=\"dataframe\">\n",
       "  <thead>\n",
       "    <tr style=\"text-align: right;\">\n",
       "      <th></th>\n",
       "      <th>boms_id</th>\n",
       "      <th>partner</th>\n",
       "      <th>desc</th>\n",
       "      <th>name</th>\n",
       "      <th>chassis</th>\n",
       "      <th>motherboard</th>\n",
       "      <th>form_factor</th>\n",
       "      <th>led_indicators</th>\n",
       "      <th>on_off_switch</th>\n",
       "      <th>fan_size</th>\n",
       "      <th>...</th>\n",
       "      <th>motherboard_chipset</th>\n",
       "      <th>lan_ports</th>\n",
       "      <th>onboard_connection</th>\n",
       "      <th>gbe</th>\n",
       "      <th>onboard_network_controllers</th>\n",
       "      <th>supported_storage_drive_interfaces</th>\n",
       "      <th>num_of_processors_supported</th>\n",
       "      <th>processor_socket</th>\n",
       "      <th>num_of_fasns</th>\n",
       "      <th>type</th>\n",
       "    </tr>\n",
       "  </thead>\n",
       "  <tbody>\n",
       "    <tr>\n",
       "      <th>0</th>\n",
       "      <td>26</td>\n",
       "      <td>supermicro</td>\n",
       "      <td>826BE1C4-R1K23LPB + X11DPi-N</td>\n",
       "      <td>D2123-DS228-MDR</td>\n",
       "      <td>CSE-826BE1C4-R1K23LPB</td>\n",
       "      <td>MBD-X11DPi-N</td>\n",
       "      <td>2U</td>\n",
       "      <td>NaN</td>\n",
       "      <td>NaN</td>\n",
       "      <td>80x80x38 mm</td>\n",
       "      <td>...</td>\n",
       "      <td>Intel® C621</td>\n",
       "      <td>2.0</td>\n",
       "      <td>RJ45 Gigabit Ethernet LAN ports</td>\n",
       "      <td>1.0</td>\n",
       "      <td>Dual LAN with 1GbE LAN with Intel® X722</td>\n",
       "      <td>SATA3</td>\n",
       "      <td>2.0</td>\n",
       "      <td>Dual Socket LGA-3647 (Socket P) supported, CPU...</td>\n",
       "      <td>3</td>\n",
       "      <td>D</td>\n",
       "    </tr>\n",
       "    <tr>\n",
       "      <th>1</th>\n",
       "      <td>28</td>\n",
       "      <td>supermicro</td>\n",
       "      <td>847BE1C4-R1K23LPB + X11DPi-N</td>\n",
       "      <td>D4363-DS228-MDR</td>\n",
       "      <td>CSE-847BE1C4-R1K23LPB</td>\n",
       "      <td>MBD-X11DPi-N</td>\n",
       "      <td>4U</td>\n",
       "      <td>NaN</td>\n",
       "      <td>NaN</td>\n",
       "      <td>80x80x38 mm</td>\n",
       "      <td>...</td>\n",
       "      <td>Intel® C621</td>\n",
       "      <td>2.0</td>\n",
       "      <td>RJ45 Gigabit Ethernet LAN ports</td>\n",
       "      <td>1.0</td>\n",
       "      <td>Dual LAN with 1GbE LAN with Intel® X722</td>\n",
       "      <td>SATA3</td>\n",
       "      <td>2.0</td>\n",
       "      <td>Dual Socket LGA-3647 (Socket P) supported, CPU...</td>\n",
       "      <td>7</td>\n",
       "      <td>D</td>\n",
       "    </tr>\n",
       "    <tr>\n",
       "      <th>2</th>\n",
       "      <td>31</td>\n",
       "      <td>supermicro</td>\n",
       "      <td>825TQC-R1K03LPB + X11DPi-N</td>\n",
       "      <td>D283-DS228-MDR</td>\n",
       "      <td>CSE-825TQC-R1K03LPB</td>\n",
       "      <td>MBD-X11DPi-N</td>\n",
       "      <td>2U</td>\n",
       "      <td>NaN</td>\n",
       "      <td>NaN</td>\n",
       "      <td>80x80x38 mm</td>\n",
       "      <td>...</td>\n",
       "      <td>Intel® C621</td>\n",
       "      <td>2.0</td>\n",
       "      <td>RJ45 Gigabit Ethernet LAN ports</td>\n",
       "      <td>1.0</td>\n",
       "      <td>Dual LAN with 1GbE LAN with Intel® X722</td>\n",
       "      <td>SATA3</td>\n",
       "      <td>2.0</td>\n",
       "      <td>Dual Socket LGA-3647 (Socket P) supported, CPU...</td>\n",
       "      <td>3</td>\n",
       "      <td>D</td>\n",
       "    </tr>\n",
       "    <tr>\n",
       "      <th>3</th>\n",
       "      <td>32</td>\n",
       "      <td>supermicro</td>\n",
       "      <td>836BE1C-R1K23B + X11DPi-N</td>\n",
       "      <td>D3163-DS228-MDR</td>\n",
       "      <td>CSE-836BE1C-R1K23B</td>\n",
       "      <td>MBD-X11DPi-N</td>\n",
       "      <td>3U</td>\n",
       "      <td>NaN</td>\n",
       "      <td>NaN</td>\n",
       "      <td>80x32 mm 6.7K RPM SC836 Rear Exhaust Fan w/ Ho...</td>\n",
       "      <td>...</td>\n",
       "      <td>Intel® C621</td>\n",
       "      <td>2.0</td>\n",
       "      <td>RJ45 Gigabit Ethernet LAN ports</td>\n",
       "      <td>1.0</td>\n",
       "      <td>Dual LAN with 1GbE LAN with Intel® X722</td>\n",
       "      <td>SATA3</td>\n",
       "      <td>2.0</td>\n",
       "      <td>Dual Socket LGA-3647 (Socket P) supported, CPU...</td>\n",
       "      <td>23</td>\n",
       "      <td>D</td>\n",
       "    </tr>\n",
       "    <tr>\n",
       "      <th>4</th>\n",
       "      <td>33</td>\n",
       "      <td>supermicro</td>\n",
       "      <td>846BE1C-R1K23B + X11DPi-N</td>\n",
       "      <td>D4243-DS228-MDR</td>\n",
       "      <td>CSE-846BE1C-R1K23B</td>\n",
       "      <td>MBD-X11DPi-N</td>\n",
       "      <td>4U</td>\n",
       "      <td>NaN</td>\n",
       "      <td>NaN</td>\n",
       "      <td>80x32 mm 6.7K RPM SC836 Rear Exhaust Fan w/ Ho...</td>\n",
       "      <td>...</td>\n",
       "      <td>Intel® C621</td>\n",
       "      <td>2.0</td>\n",
       "      <td>RJ45 Gigabit Ethernet LAN ports</td>\n",
       "      <td>1.0</td>\n",
       "      <td>Dual LAN with 1GbE LAN with Intel® X722</td>\n",
       "      <td>SATA3</td>\n",
       "      <td>2.0</td>\n",
       "      <td>Dual Socket LGA-3647 (Socket P) supported, CPU...</td>\n",
       "      <td>23</td>\n",
       "      <td>D</td>\n",
       "    </tr>\n",
       "  </tbody>\n",
       "</table>\n",
       "<p>5 rows × 54 columns</p>\n",
       "</div>"
      ],
      "text/plain": [
       "   boms_id     partner                          desc             name  \\\n",
       "0       26  supermicro  826BE1C4-R1K23LPB + X11DPi-N  D2123-DS228-MDR   \n",
       "1       28  supermicro  847BE1C4-R1K23LPB + X11DPi-N  D4363-DS228-MDR   \n",
       "2       31  supermicro    825TQC-R1K03LPB + X11DPi-N   D283-DS228-MDR   \n",
       "3       32  supermicro     836BE1C-R1K23B + X11DPi-N  D3163-DS228-MDR   \n",
       "4       33  supermicro     846BE1C-R1K23B + X11DPi-N  D4243-DS228-MDR   \n",
       "\n",
       "                 chassis   motherboard form_factor led_indicators  \\\n",
       "0  CSE-826BE1C4-R1K23LPB  MBD-X11DPi-N          2U            NaN   \n",
       "1  CSE-847BE1C4-R1K23LPB  MBD-X11DPi-N          4U            NaN   \n",
       "2    CSE-825TQC-R1K03LPB  MBD-X11DPi-N          2U            NaN   \n",
       "3     CSE-836BE1C-R1K23B  MBD-X11DPi-N          3U            NaN   \n",
       "4     CSE-846BE1C-R1K23B  MBD-X11DPi-N          4U            NaN   \n",
       "\n",
       "  on_off_switch                                           fan_size  ...  \\\n",
       "0           NaN                                        80x80x38 mm  ...   \n",
       "1           NaN                                        80x80x38 mm  ...   \n",
       "2           NaN                                        80x80x38 mm  ...   \n",
       "3           NaN  80x32 mm 6.7K RPM SC836 Rear Exhaust Fan w/ Ho...  ...   \n",
       "4           NaN  80x32 mm 6.7K RPM SC836 Rear Exhaust Fan w/ Ho...  ...   \n",
       "\n",
       "  motherboard_chipset lan_ports               onboard_connection  gbe  \\\n",
       "0         Intel® C621       2.0  RJ45 Gigabit Ethernet LAN ports  1.0   \n",
       "1         Intel® C621       2.0  RJ45 Gigabit Ethernet LAN ports  1.0   \n",
       "2         Intel® C621       2.0  RJ45 Gigabit Ethernet LAN ports  1.0   \n",
       "3         Intel® C621       2.0  RJ45 Gigabit Ethernet LAN ports  1.0   \n",
       "4         Intel® C621       2.0  RJ45 Gigabit Ethernet LAN ports  1.0   \n",
       "\n",
       "               onboard_network_controllers supported_storage_drive_interfaces  \\\n",
       "0  Dual LAN with 1GbE LAN with Intel® X722                             SATA3    \n",
       "1  Dual LAN with 1GbE LAN with Intel® X722                             SATA3    \n",
       "2  Dual LAN with 1GbE LAN with Intel® X722                             SATA3    \n",
       "3  Dual LAN with 1GbE LAN with Intel® X722                             SATA3    \n",
       "4  Dual LAN with 1GbE LAN with Intel® X722                             SATA3    \n",
       "\n",
       "  num_of_processors_supported  \\\n",
       "0                         2.0   \n",
       "1                         2.0   \n",
       "2                         2.0   \n",
       "3                         2.0   \n",
       "4                         2.0   \n",
       "\n",
       "                                    processor_socket num_of_fasns  type  \n",
       "0  Dual Socket LGA-3647 (Socket P) supported, CPU...            3     D  \n",
       "1  Dual Socket LGA-3647 (Socket P) supported, CPU...            7     D  \n",
       "2  Dual Socket LGA-3647 (Socket P) supported, CPU...            3     D  \n",
       "3  Dual Socket LGA-3647 (Socket P) supported, CPU...           23     D  \n",
       "4  Dual Socket LGA-3647 (Socket P) supported, CPU...           23     D  \n",
       "\n",
       "[5 rows x 54 columns]"
      ]
     },
     "execution_count": 16,
     "metadata": {},
     "output_type": "execute_result"
    }
   ],
   "source": [
    "data2 = drop_nan_col(data, 0.9)\n",
    "data2.head()"
   ]
  },
  {
   "cell_type": "code",
   "execution_count": 17,
   "metadata": {
    "scrolled": true
   },
   "outputs": [
    {
     "name": "stdout",
     "output_type": "stream",
     "text": [
      "(453, 146)\n",
      "(453, 54)\n"
     ]
    }
   ],
   "source": [
    "print(data.shape)\n",
    "print(data2.shape)"
   ]
  },
  {
   "cell_type": "code",
   "execution_count": 18,
   "metadata": {},
   "outputs": [
    {
     "name": "stdout",
     "output_type": "stream",
     "text": [
      "<class 'pandas.core.frame.DataFrame'>\n",
      "RangeIndex: 453 entries, 0 to 452\n",
      "Data columns (total 54 columns):\n",
      " #   Column                                 Non-Null Count  Dtype  \n",
      "---  ------                                 --------------  -----  \n",
      " 0   boms_id                                453 non-null    int64  \n",
      " 1   partner                                453 non-null    object \n",
      " 2   desc                                   449 non-null    object \n",
      " 3   name                                   453 non-null    object \n",
      " 4   chassis                                443 non-null    object \n",
      " 5   motherboard                            441 non-null    object \n",
      " 6   form_factor                            365 non-null    object \n",
      " 7   led_indicators                         145 non-null    object \n",
      " 8   on_off_switch                          145 non-null    object \n",
      " 9   fan_size                               235 non-null    object \n",
      " 10  product_colour                         412 non-null    object \n",
      " 11  rohs_compliance                        203 non-null    object \n",
      " 12  hot_swap_hdd_bays                      271 non-null    object \n",
      " 13  num_of_storage_drives_supported        73 non-null     float64\n",
      " 14  storage_drives_sizes_supported         72 non-null     object \n",
      " 15  backplane_sku                          353 non-null    object \n",
      " 16  backplanes_support                     199 non-null    object \n",
      " 17  optional_rear_drive_bays               443 non-null    object \n",
      " 18  supporting_2_5_inch_nvme               209 non-null    object \n",
      " 19  num_of_nvme_supported_by_backplane     205 non-null    float64\n",
      " 20  power_supply_sku                       382 non-null    object \n",
      " 21  power_distributer_sku                  80 non-null     object \n",
      " 22  power_supply                           445 non-null    object \n",
      " 23  height_mm                              449 non-null    float64\n",
      " 24  width_mm                               449 non-null    float64\n",
      " 25  depth_mm                               449 non-null    float64\n",
      " 26  chassis_gross_weight_kg                133 non-null    float64\n",
      " 27  chassis_net_weight                     133 non-null    float64\n",
      " 28  pcl_express_slots_version              418 non-null    object \n",
      " 29  on_board_graphics_adapter_model        369 non-null    object \n",
      " 30  ecc                                    449 non-null    object \n",
      " 31  maximum_internal_memory                264 non-null    object \n",
      " 32  num_of_dimm_slots                      447 non-null    float64\n",
      " 33  supported_memory_types                 447 non-null    object \n",
      " 34  maximum_supported_ram_clock_speed_mhz  437 non-null    float64\n",
      " 35  m_2                                    449 non-null    object \n",
      " 36  operating_temperature                  446 non-null    object \n",
      " 37  storage_temperature                    440 non-null    object \n",
      " 38  operating_relative_humidity            440 non-null    object \n",
      " 39  storage_relative_humidity              440 non-null    object \n",
      " 40  pc_health_monitoring                   443 non-null    object \n",
      " 41  ipml_lan_port                          124 non-null    object \n",
      " 42  usb_3_0_type_a_ports_quantity          437 non-null    float64\n",
      " 43  built_in_processor                     443 non-null    object \n",
      " 44  motherboard_chipset                    453 non-null    object \n",
      " 45  lan_ports                              306 non-null    float64\n",
      " 46  onboard_connection                     299 non-null    object \n",
      " 47  gbe                                    92 non-null     float64\n",
      " 48  onboard_network_controllers            445 non-null    object \n",
      " 49  supported_storage_drive_interfaces     424 non-null    object \n",
      " 50  num_of_processors_supported            193 non-null    float64\n",
      " 51  processor_socket                       322 non-null    object \n",
      " 52  num_of_fasns                           443 non-null    object \n",
      " 53  type                                   443 non-null    object \n",
      "dtypes: float64(13), int64(1), object(40)\n",
      "memory usage: 191.2+ KB\n"
     ]
    }
   ],
   "source": [
    "data2.info()"
   ]
  },
  {
   "cell_type": "code",
   "execution_count": 20,
   "metadata": {
    "scrolled": false
   },
   "outputs": [],
   "source": [
    "# data2['name'].value_counts()[:].plot(kind='barh', figsize=[10,120], fontsize=13, color='navy').invert_yaxis()"
   ]
  },
  {
   "cell_type": "markdown",
   "metadata": {},
   "source": [
    "### Bag of words"
   ]
  },
  {
   "cell_type": "code",
   "execution_count": 19,
   "metadata": {},
   "outputs": [
    {
     "data": {
      "text/plain": [
       "0    26 supermicro 826be1c4-r1k23lpb + x11dpi-n d21...\n",
       "1    28 supermicro 847be1c4-r1k23lpb + x11dpi-n d43...\n",
       "2    31 supermicro 825tqc-r1k03lpb + x11dpi-n d283-...\n",
       "3    32 supermicro 836be1c-r1k23b + x11dpi-n d3163-...\n",
       "4    33 supermicro 846be1c-r1k23b + x11dpi-n d4243-...\n",
       "Name: bag of words, dtype: object"
      ]
     },
     "execution_count": 19,
     "metadata": {},
     "output_type": "execute_result"
    }
   ],
   "source": [
    "data2['bag of words'] = data2[data2.columns[:]].apply(lambda x: ' '.join(x.dropna().astype(str)),axis=1)\n",
    "data2['bag of words'] = data2['bag of words'].apply(lambda x: x.lower())\n",
    "data2['bag of words'].head()"
   ]
  },
  {
   "cell_type": "markdown",
   "metadata": {},
   "source": [
    "### TF-IDF and Cosine Simillarity"
   ]
  },
  {
   "cell_type": "code",
   "execution_count": 20,
   "metadata": {},
   "outputs": [],
   "source": [
    "tf = TfidfVectorizer(analyzer='word', \n",
    "                     ngram_range=(1, 1), \n",
    "                     min_df=0, \n",
    "                     stop_words='english')"
   ]
  },
  {
   "cell_type": "code",
   "execution_count": 21,
   "metadata": {},
   "outputs": [],
   "source": [
    "tfidf_matrix = tf.fit_transform(data2['bag of words'])"
   ]
  },
  {
   "cell_type": "code",
   "execution_count": 22,
   "metadata": {},
   "outputs": [
    {
     "data": {
      "text/plain": [
       "array([0.06363304, 0.0438786 , 0.06363304, ..., 0.06223386, 0.07805358,\n",
       "       0.09593518])"
      ]
     },
     "execution_count": 22,
     "metadata": {},
     "output_type": "execute_result"
    }
   ],
   "source": [
    "tfidf_matrix.data"
   ]
  },
  {
   "cell_type": "code",
   "execution_count": 23,
   "metadata": {},
   "outputs": [],
   "source": [
    "cosine_similarities = linear_kernel(tfidf_matrix, tfidf_matrix)"
   ]
  },
  {
   "cell_type": "code",
   "execution_count": 24,
   "metadata": {
    "scrolled": true
   },
   "outputs": [
    {
     "data": {
      "text/plain": [
       "array([[1.        , 0.63477188, 0.49245745, ..., 0.05056173, 0.03489777,\n",
       "        0.03371032],\n",
       "       [0.63477188, 1.        , 0.44832222, ..., 0.04801105, 0.03313729,\n",
       "        0.03200974],\n",
       "       [0.49245745, 0.44832222, 1.        , ..., 0.04797966, 0.03311563,\n",
       "        0.03198882],\n",
       "       ...,\n",
       "       [0.05056173, 0.04801105, 0.04797966, ..., 1.        , 0.72567777,\n",
       "        0.70098544],\n",
       "       [0.03489777, 0.03313729, 0.03311563, ..., 0.72567777, 1.        ,\n",
       "        0.78577134],\n",
       "       [0.03371032, 0.03200974, 0.03198882, ..., 0.70098544, 0.78577134,\n",
       "        1.        ]])"
      ]
     },
     "execution_count": 24,
     "metadata": {},
     "output_type": "execute_result"
    }
   ],
   "source": [
    "cosine_similarities"
   ]
  },
  {
   "cell_type": "markdown",
   "metadata": {},
   "source": [
    "### Recommender functions "
   ]
  },
  {
   "cell_type": "code",
   "execution_count": 25,
   "metadata": {},
   "outputs": [],
   "source": [
    "def similarity_algorithm(): \n",
    "    results = {}\n",
    "    for idx, row in data2.iterrows():\n",
    "        similar_indices = cosine_similarities[idx].argsort()[:-100:-1]\n",
    "        similar_items = [(cosine_similarities[idx][i], data2['boms_id'][i]) for i in similar_indices]\n",
    "        results[row['boms_id']] = similar_items[1:]\n",
    "    return results"
   ]
  },
  {
   "cell_type": "code",
   "execution_count": 26,
   "metadata": {},
   "outputs": [],
   "source": [
    "def item(id):\n",
    "    return data2.loc[data2['boms_id'] == id]['name'].tolist()[0].split(' - ')[0]"
   ]
  },
  {
   "cell_type": "code",
   "execution_count": 48,
   "metadata": {},
   "outputs": [],
   "source": [
    "def recommend(boms_id, num):\n",
    "    print(\"Recommending \" + str(num) + \" products similar to \" + item(boms_id))\n",
    "    print(\"-\"*60)\n",
    "    results = similarity_algorithm()\n",
    "    recs = results[boms_id][:num]\n",
    "    recomendations = []\n",
    "    recomendations_dict = {}\n",
    "    recomendations_dict['status'] = 200\n",
    "    for rec in recs:\n",
    "        recomendations.append((str(rec[1]), item(rec[1])))\n",
    "        print(\"Recommended: \" + item(rec[1]) + \" (simillarity score: \" + str(rec[0]) + \")\" )\n",
    "    recomendations_dict['data'] = [dict(recomendations)]\n",
    "    return recomendations_dict"
   ]
  },
  {
   "cell_type": "markdown",
   "metadata": {},
   "source": [
    "### API fetch\n",
    "\n",
    "Task:\n",
    "- API from frontend to backend with URL, name and **boms_id** of product."
   ]
  },
  {
   "cell_type": "markdown",
   "metadata": {},
   "source": [
    "### Prediction"
   ]
  },
  {
   "cell_type": "code",
   "execution_count": 208,
   "metadata": {},
   "outputs": [],
   "source": [
    "# recomender_result = {}\n",
    "# for boms in data2.boms_id:\n",
    "#     recomender_result[boms] = recommend(boms_id = boms , num=5)"
   ]
  },
  {
   "cell_type": "code",
   "execution_count": 207,
   "metadata": {},
   "outputs": [],
   "source": [
    "# recomender_result"
   ]
  },
  {
   "cell_type": "code",
   "execution_count": 206,
   "metadata": {},
   "outputs": [],
   "source": [
    "# result = []\n",
    "# for i in range(len(recomender_result)):\n",
    "#     for key, index in recomender_result.items():\n",
    "#         for k , value in index.items():\n",
    "#             result.append([key, k, value])"
   ]
  },
  {
   "cell_type": "code",
   "execution_count": 205,
   "metadata": {},
   "outputs": [],
   "source": [
    "# data3 = pd.DataFrame.from_records(result)\n",
    "# data3 = data3.astype(str)\n",
    "# data3"
   ]
  },
  {
   "cell_type": "code",
   "execution_count": 204,
   "metadata": {},
   "outputs": [],
   "source": [
    "# data3 = data3.rename(columns={0:'boms_id', 1:'simillar_boms_id', 2:'name'})\n",
    "# data3"
   ]
  },
  {
   "cell_type": "code",
   "execution_count": 202,
   "metadata": {},
   "outputs": [],
   "source": [
    "# data3['boms_id'].value_counts()[:].plot(kind='barh', figsize=[10,120], fontsize=13, color='navy').invert_yaxis()"
   ]
  },
  {
   "cell_type": "code",
   "execution_count": 28,
   "metadata": {},
   "outputs": [],
   "source": [
    "boms_id = 100"
   ]
  },
  {
   "cell_type": "code",
   "execution_count": 49,
   "metadata": {},
   "outputs": [
    {
     "name": "stdout",
     "output_type": "stream",
     "text": [
      "Recommending 5 products similar to S122-Si376-D\n",
      "------------------------------------------------------------\n",
      "Recommended: SuperServer-5019S-L (simillarity score: 0.916267818512312)\n",
      "Recommended: S143-Si376-D (simillarity score: 0.655773602400534)\n",
      "Recommended: SuperServer-5019S-M (simillarity score: 0.6446049219703406)\n",
      "Recommended: SuperServer-5039D-i (simillarity score: 0.6258234083475249)\n",
      "Recommended: SuperServer-5019S-WR (simillarity score: 0.5179195977913175)\n"
     ]
    }
   ],
   "source": [
    "recomendations = recommend(boms_id = boms_id, num=5)"
   ]
  },
  {
   "cell_type": "code",
   "execution_count": 50,
   "metadata": {},
   "outputs": [
    {
     "data": {
      "text/plain": [
       "{'status': 200,\n",
       " 'data': [{'200': 'SuperServer-5019S-L',\n",
       "   '101': 'S143-Si376-D',\n",
       "   '201': 'SuperServer-5019S-M',\n",
       "   '294': 'SuperServer-5039D-i',\n",
       "   '202': 'SuperServer-5019S-WR'}]}"
      ]
     },
     "execution_count": 50,
     "metadata": {},
     "output_type": "execute_result"
    }
   ],
   "source": [
    "recomendations"
   ]
  },
  {
   "cell_type": "code",
   "execution_count": 227,
   "metadata": {},
   "outputs": [],
   "source": [
    "def get_boms_id(name, data):\n",
    "    bom_id = data[data['name'] == name].boms_id.values[0]\n",
    "    return bom_id "
   ]
  },
  {
   "cell_type": "code",
   "execution_count": 231,
   "metadata": {},
   "outputs": [],
   "source": [
    "name = 'D2123-DS228-MDR'"
   ]
  },
  {
   "cell_type": "code",
   "execution_count": 234,
   "metadata": {},
   "outputs": [
    {
     "data": {
      "text/plain": [
       "26"
      ]
     },
     "execution_count": 234,
     "metadata": {},
     "output_type": "execute_result"
    }
   ],
   "source": [
    "# data2[data2['name'] == name].boms_id.values[0]\n",
    "boms_id = get_boms_id(name, data2)\n",
    "boms_id"
   ]
  },
  {
   "cell_type": "code",
   "execution_count": 235,
   "metadata": {},
   "outputs": [
    {
     "name": "stdout",
     "output_type": "stream",
     "text": [
      "Recommending 5 products similar to D2123-DS228-MDR\n",
      "------------------------------------------------------------\n",
      "Recommended: D2123-SS228-MDR (simillarity score: 0.6576068709246723)\n",
      "Recommended: DNS4363-DS228-MDR (simillarity score: 0.6410497808757499)\n",
      "Recommended: D4363-DS228-MDR (simillarity score: 0.634771876792206)\n",
      "Recommended: D2242-DS228-NMDOR (simillarity score: 0.6316551776985586)\n",
      "Recommended: D2123-DA32-MDR (simillarity score: 0.59859521233277)\n"
     ]
    }
   ],
   "source": [
    "recomendations = recommend(boms_id = boms_id, num=5)"
   ]
  },
  {
   "cell_type": "markdown",
   "metadata": {},
   "source": [
    "### API Deployment\n",
    "\n",
    "Task:\n",
    "- Send API response containing 5 simillar products names back to frontend"
   ]
  },
  {
   "cell_type": "code",
   "execution_count": null,
   "metadata": {},
   "outputs": [
    {
     "name": "stdout",
     "output_type": "stream",
     "text": [
      " * Serving Flask app \"__main__\" (lazy loading)\n",
      " * Environment: production\n",
      "\u001b[31m   WARNING: This is a development server. Do not use it in a production deployment.\u001b[0m\n",
      "\u001b[2m   Use a production WSGI server instead.\u001b[0m\n",
      " * Debug mode: off\n"
     ]
    },
    {
     "name": "stderr",
     "output_type": "stream",
     "text": [
      " * Running on http://127.0.0.1:5000/ (Press CTRL+C to quit)\n"
     ]
    },
    {
     "name": "stdout",
     "output_type": "stream",
     "text": [
      "26 <class 'str'>\n",
      "Recommending 5 products similar to D2123-DS228-MDR\n",
      "------------------------------------------------------------\n"
     ]
    },
    {
     "name": "stderr",
     "output_type": "stream",
     "text": [
      "127.0.0.1 - - [11/Jan/2021 16:04:25] \"\u001b[37mGET /api/recomender/26 HTTP/1.1\u001b[0m\" 200 -\n"
     ]
    },
    {
     "name": "stdout",
     "output_type": "stream",
     "text": [
      "Recommended: D2123-SS228-MDR (simillarity score: 0.6576068709246723)\n",
      "Recommended: DNS4363-DS228-MDR (simillarity score: 0.6410497808757499)\n",
      "Recommended: D4363-DS228-MDR (simillarity score: 0.634771876792206)\n",
      "Recommended: D2242-DS228-NMDOR (simillarity score: 0.6316551776985586)\n",
      "Recommended: D2123-DA32-MDR (simillarity score: 0.59859521233277)\n"
     ]
    },
    {
     "name": "stderr",
     "output_type": "stream",
     "text": [
      "[2021-01-11 16:04:28,509] ERROR in app: Exception on /api/recomender/25 [GET]\n",
      "Traceback (most recent call last):\n",
      "  File \"/Users/mohsinkhan/opt/anaconda3/lib/python3.7/site-packages/flask/app.py\", line 2447, in wsgi_app\n",
      "    response = self.full_dispatch_request()\n",
      "  File \"/Users/mohsinkhan/opt/anaconda3/lib/python3.7/site-packages/flask/app.py\", line 1952, in full_dispatch_request\n",
      "    rv = self.handle_user_exception(e)\n",
      "  File \"/Users/mohsinkhan/opt/anaconda3/lib/python3.7/site-packages/flask_cors/extension.py\", line 165, in wrapped_function\n",
      "    return cors_after_request(app.make_response(f(*args, **kwargs)))\n",
      "  File \"/Users/mohsinkhan/opt/anaconda3/lib/python3.7/site-packages/flask/app.py\", line 1821, in handle_user_exception\n",
      "    reraise(exc_type, exc_value, tb)\n",
      "  File \"/Users/mohsinkhan/opt/anaconda3/lib/python3.7/site-packages/flask/_compat.py\", line 39, in reraise\n",
      "    raise value\n",
      "  File \"/Users/mohsinkhan/opt/anaconda3/lib/python3.7/site-packages/flask/app.py\", line 1950, in full_dispatch_request\n",
      "    rv = self.dispatch_request()\n",
      "  File \"/Users/mohsinkhan/opt/anaconda3/lib/python3.7/site-packages/flask/app.py\", line 1936, in dispatch_request\n",
      "    return self.view_functions[rule.endpoint](**req.view_args)\n",
      "  File \"<ipython-input-57-507f7c03b70a>\", line 27, in send_recommenxwdatios\n",
      "    recomendations = recommend(int(boms_id), 5)\n",
      "  File \"<ipython-input-48-b44d50bef241>\", line 2, in recommend\n",
      "    print(\"Recommending \" + str(num) + \" products similar to \" + item(boms_id))\n",
      "  File \"<ipython-input-26-9b1f668d4130>\", line 2, in item\n",
      "    return data2.loc[data2['boms_id'] == id]['name'].tolist()[0].split(' - ')[0]\n",
      "IndexError: list index out of range\n",
      "127.0.0.1 - - [11/Jan/2021 16:04:28] \"\u001b[35m\u001b[1mGET /api/recomender/25 HTTP/1.1\u001b[0m\" 500 -\n"
     ]
    },
    {
     "name": "stdout",
     "output_type": "stream",
     "text": [
      "25 <class 'str'>\n"
     ]
    }
   ],
   "source": [
    "from flask import Flask, jsonify, request\n",
    "from flask_cors import CORS\n",
    "\n",
    "# Init app\n",
    "app = Flask(__name__)\n",
    "CORS(app)\n",
    "\n",
    "# API\n",
    "@app.route('/api')\n",
    "# @app.route('/api/recomender', methods = ['GET', 'POST'])\n",
    "# def send_recommenxwdatios():\n",
    "#     boms_id = request.json\n",
    "#     print(boms_id, request.json)\n",
    "#     recomendations = {}\n",
    "#     if boms_id:\n",
    "#         print(boms_id)\n",
    "#         recomendations = recommend(boms_id, 5)\n",
    "#         return jsonify(recomendations)\n",
    "#     print(recomendations)\n",
    "#     return 'API Not Working'\n",
    "\n",
    "@app.route('/api/recomender/<boms_id>', methods = ['GET', 'POST'])\n",
    "def send_recommenxwdatios(boms_id):\n",
    "    recomendations = {}\n",
    "    print(boms_id, type(boms_id))\n",
    "    if boms_id:\n",
    "        recomendations = recommend(int(boms_id), 5)\n",
    "        recomendations['error'] = ''\n",
    "        return jsonify(recomendations)\n",
    "    print(recomendations)\n",
    "    return recomendations\n",
    "\n",
    "# @app.route('/api/recomender/<name>', methods = ['GET', 'POST'])\n",
    "# def send_recommenxwdatios(name):\n",
    "#     print(name, type(name))\n",
    "#     if name:\n",
    "#         boms_id = get_boms_id(name, data2)\n",
    "#         print(boms_id)\n",
    "#         recomendations = recommend(int(boms_id), 5)\n",
    "#         return jsonify(recomendations)\n",
    "#     print(recomendations)\n",
    "#     return 'API Not Working'\n",
    "\n",
    "\n",
    "# Run Server\n",
    "if __name__ == '__main__':\n",
    "    app.run()"
   ]
  },
  {
   "cell_type": "markdown",
   "metadata": {},
   "source": [
    "### Everything together"
   ]
  },
  {
   "cell_type": "code",
   "execution_count": null,
   "metadata": {},
   "outputs": [
    {
     "name": "stdout",
     "output_type": "stream",
     "text": [
      "[0.06363304 0.0438786  0.06363304 ... 0.06223386 0.07805358 0.09593518]\n",
      " * Serving Flask app \"__main__\" (lazy loading)\n",
      " * Environment: production\n",
      "\u001b[31m   WARNING: This is a development server. Do not use it in a production deployment.\u001b[0m\n",
      "\u001b[2m   Use a production WSGI server instead.\u001b[0m\n",
      " * Debug mode: off\n"
     ]
    },
    {
     "name": "stderr",
     "output_type": "stream",
     "text": [
      " * Running on http://127.0.0.1:5000/ (Press CTRL+C to quit)\n",
      "127.0.0.1 - - [08/Jan/2021 10:10:52] \"\u001b[33mGET / HTTP/1.1\u001b[0m\" 404 -\n",
      "127.0.0.1 - - [08/Jan/2021 10:10:57] \"\u001b[33mGET /api/crawler HTTP/1.1\u001b[0m\" 404 -\n",
      "[2021-01-08 10:11:01,305] ERROR in app: Exception on /api/recomender/26 [GET]\n",
      "Traceback (most recent call last):\n",
      "  File \"/Users/mohsinkhan/opt/anaconda3/lib/python3.7/site-packages/flask/app.py\", line 2447, in wsgi_app\n",
      "    response = self.full_dispatch_request()\n",
      "  File \"/Users/mohsinkhan/opt/anaconda3/lib/python3.7/site-packages/flask/app.py\", line 1952, in full_dispatch_request\n",
      "    rv = self.handle_user_exception(e)\n",
      "  File \"/Users/mohsinkhan/opt/anaconda3/lib/python3.7/site-packages/flask_cors/extension.py\", line 165, in wrapped_function\n",
      "    return cors_after_request(app.make_response(f(*args, **kwargs)))\n",
      "  File \"/Users/mohsinkhan/opt/anaconda3/lib/python3.7/site-packages/flask/app.py\", line 1821, in handle_user_exception\n",
      "    reraise(exc_type, exc_value, tb)\n",
      "  File \"/Users/mohsinkhan/opt/anaconda3/lib/python3.7/site-packages/flask/_compat.py\", line 39, in reraise\n",
      "    raise value\n",
      "  File \"/Users/mohsinkhan/opt/anaconda3/lib/python3.7/site-packages/flask/app.py\", line 1950, in full_dispatch_request\n",
      "    rv = self.dispatch_request()\n",
      "  File \"/Users/mohsinkhan/opt/anaconda3/lib/python3.7/site-packages/flask/app.py\", line 1936, in dispatch_request\n",
      "    return self.view_functions[rule.endpoint](**req.view_args)\n",
      "  File \"<ipython-input-238-98daaff9dcbc>\", line 73, in send_recommenxwdatios\n",
      "    boms_id = get_boms_id(name, data2)\n",
      "  File \"<ipython-input-238-98daaff9dcbc>\", line 44, in get_boms_id\n",
      "    bom_id = data[data['name'] == name].boms_id.values[0]\n",
      "IndexError: index 0 is out of bounds for axis 0 with size 0\n",
      "127.0.0.1 - - [08/Jan/2021 10:11:01] \"\u001b[35m\u001b[1mGET /api/recomender/26 HTTP/1.1\u001b[0m\" 500 -\n"
     ]
    },
    {
     "name": "stdout",
     "output_type": "stream",
     "text": [
      "26 <class 'str'>\n",
      "S143-Si376-D <class 'str'>\n",
      "101\n",
      "Recommending 5 products similar to S143-Si376-D\n",
      "------------------------------------------------------------\n"
     ]
    },
    {
     "name": "stderr",
     "output_type": "stream",
     "text": [
      "127.0.0.1 - - [08/Jan/2021 10:11:21] \"\u001b[37mPOST /api/recomender/S143-Si376-D HTTP/1.1\u001b[0m\" 200 -\n"
     ]
    },
    {
     "name": "stdout",
     "output_type": "stream",
     "text": [
      "Recommended: SuperServer-5019S-M (simillarity score: 0.9012871843400873)\n",
      "Recommended: S122-Si376-D (simillarity score: 0.655773602400534)\n",
      "Recommended: SuperServer-5019S-L (simillarity score: 0.6450110843565203)\n",
      "Recommended: S143-SE66-MDR (simillarity score: 0.6096891471894528)\n",
      "Recommended: SuperServer-5019S-WR (simillarity score: 0.5854402673967348)\n",
      "SuperServer-5019S-WR <class 'str'>\n",
      "202\n",
      "Recommending 5 products similar to SuperServer-5019S-WR\n",
      "------------------------------------------------------------\n"
     ]
    },
    {
     "name": "stderr",
     "output_type": "stream",
     "text": [
      "127.0.0.1 - - [08/Jan/2021 10:11:29] \"\u001b[37mPOST /api/recomender/SuperServer-5019S-WR HTTP/1.1\u001b[0m\" 200 -\n"
     ]
    },
    {
     "name": "stdout",
     "output_type": "stream",
     "text": [
      "Recommended: S143-SE66-MDR (simillarity score: 0.9156223246485974)\n",
      "Recommended: SuperServer-5019S-M (simillarity score: 0.638326640071691)\n",
      "Recommended: S143-Si376-D (simillarity score: 0.5854402673967348)\n",
      "Recommended: SuperServer-1019S-WR (simillarity score: 0.5784307788387836)\n",
      "Recommended: SuperServer-1019S-WR (simillarity score: 0.5784307788387836)\n",
      "S143-SE66-MDR <class 'str'>\n",
      "132\n",
      "Recommending 5 products similar to S143-SE66-MDR\n",
      "------------------------------------------------------------\n"
     ]
    },
    {
     "name": "stderr",
     "output_type": "stream",
     "text": [
      "127.0.0.1 - - [08/Jan/2021 10:11:37] \"\u001b[37mPOST /api/recomender/S143-SE66-MDR HTTP/1.1\u001b[0m\" 200 -\n"
     ]
    },
    {
     "name": "stdout",
     "output_type": "stream",
     "text": [
      "Recommended: SuperServer-5019S-WR (simillarity score: 0.9156223246485974)\n",
      "Recommended: SuperServer-5019S-M (simillarity score: 0.6155659511536719)\n",
      "Recommended: S143-Si376-D (simillarity score: 0.6096891471894528)\n",
      "Recommended: SuperServer-1019S-WR (simillarity score: 0.5695223298924028)\n",
      "Recommended: SuperServer-1019S-WR (simillarity score: 0.5695223298924028)\n",
      "SuperServer-5019S-M <class 'str'>\n",
      "201\n",
      "Recommending 5 products similar to SuperServer-5019S-M\n",
      "------------------------------------------------------------\n"
     ]
    },
    {
     "name": "stderr",
     "output_type": "stream",
     "text": [
      "127.0.0.1 - - [08/Jan/2021 10:11:43] \"\u001b[37mPOST /api/recomender/SuperServer-5019S-M HTTP/1.1\u001b[0m\" 200 -\n"
     ]
    },
    {
     "name": "stdout",
     "output_type": "stream",
     "text": [
      "Recommended: S143-Si376-D (simillarity score: 0.9012871843400873)\n",
      "Recommended: SuperServer-5019S-L (simillarity score: 0.7038623139344671)\n",
      "Recommended: S122-Si376-D (simillarity score: 0.6446049219703406)\n",
      "Recommended: SuperServer-5019S-WR (simillarity score: 0.638326640071691)\n",
      "Recommended: S143-SE66-MDR (simillarity score: 0.6155659511536719)\n"
     ]
    }
   ],
   "source": [
    "# Packages\n",
    "from flask import Flask, jsonify, request\n",
    "from flask_cors import CORS\n",
    "import pandas as pd\n",
    "import numpy as np\n",
    "from sklearn.feature_extraction.text import TfidfVectorizer\n",
    "from sklearn.metrics.pairwise import linear_kernel\n",
    "\n",
    "# Load Dataset\n",
    "data = pd.read_excel('specifications.xlsx')\n",
    "data.drop([col for col in data.columns if \"Unnamed\" in col], axis=1, inplace=True)\n",
    "data['partner'] = data['partner'].fillna('intel')\n",
    "\n",
    "# Axulliary functions\n",
    "def drop_nan_col(df, threshold): \n",
    "    for i in df.columns:\n",
    "        if (float(df[i].isnull().sum())/df[i].shape[0]) > threshold:\n",
    "            df = df.drop(i, axis=1) \n",
    "    return df\n",
    "\n",
    "def similarity_algorithm(): \n",
    "    results = {}\n",
    "    for idx, row in data2.iterrows():\n",
    "        similar_indices = cosine_similarities[idx].argsort()[:-100:-1]\n",
    "        similar_items = [(cosine_similarities[idx][i], data2['boms_id'][i]) for i in similar_indices]\n",
    "        results[row['boms_id']] = similar_items[1:]\n",
    "    return results\n",
    "\n",
    "def item(id):\n",
    "    return data2.loc[data2['boms_id'] == id]['name'].tolist()[0].split(' - ')[0]\n",
    "\n",
    "def recommend(boms_id, num):\n",
    "    print(\"Recommending \" + str(num) + \" products similar to \" + item(boms_id))\n",
    "    print(\"-\"*60)\n",
    "    results = similarity_algorithm()\n",
    "    recs = results[boms_id][:num]\n",
    "    recomendations = []\n",
    "    for rec in recs:\n",
    "        recomendations.append((str(rec[1]), item(rec[1])))\n",
    "        print(\"Recommended: \" + item(rec[1]) + \" (simillarity score: \" + str(rec[0]) + \")\" )\n",
    "    return dict(recomendations)\n",
    "\n",
    "def get_boms_id(name, data):\n",
    "    bom_id = data[data['name'] == name].boms_id.values[0]\n",
    "    return bom_id \n",
    "\n",
    "# Data pre-processing\n",
    "data2 = drop_nan_col(data, 0.9)\n",
    "data2['bag of words'] = data2[data2.columns[:]].apply(lambda x: ' '.join(x.dropna().astype(str)),axis=1)\n",
    "data2['bag of words'] = data2['bag of words'].apply(lambda x: x.lower())\n",
    "\n",
    "# Machine learning\n",
    "tf = TfidfVectorizer(analyzer='word', \n",
    "                     ngram_range=(1, 1), \n",
    "                     min_df=0, \n",
    "                     stop_words='english')\n",
    "\n",
    "tfidf_matrix = tf.fit_transform(data2['bag of words'])\n",
    "print(tfidf_matrix.data)\n",
    "\n",
    "cosine_similarities = linear_kernel(tfidf_matrix, tfidf_matrix)\n",
    "\n",
    "# API app\n",
    "app = Flask(__name__)\n",
    "CORS(app)\n",
    "\n",
    "# API\n",
    "@app.route('/api')\n",
    "@app.route('/api/recomender/<name>', methods = ['GET', 'POST'])\n",
    "def send_recommenxwdatios(name):\n",
    "    print(name, type(name))\n",
    "    if name:\n",
    "        boms_id = get_boms_id(name, data2)\n",
    "        print(boms_id)\n",
    "        recomendations = recommend(int(boms_id), 5)\n",
    "        return jsonify(recomendations)\n",
    "    print(recomendations)\n",
    "    return 'API Not Working'\n",
    "\n",
    "\n",
    "# Run Server\n",
    "if __name__ == '__main__':\n",
    "    app.run()"
   ]
  },
  {
   "cell_type": "code",
   "execution_count": null,
   "metadata": {},
   "outputs": [],
   "source": []
  }
 ],
 "metadata": {
  "kernelspec": {
   "display_name": "Python 3",
   "language": "python",
   "name": "python3"
  },
  "language_info": {
   "codemirror_mode": {
    "name": "ipython",
    "version": 3
   },
   "file_extension": ".py",
   "mimetype": "text/x-python",
   "name": "python",
   "nbconvert_exporter": "python",
   "pygments_lexer": "ipython3",
   "version": "3.7.7"
  }
 },
 "nbformat": 4,
 "nbformat_minor": 4
}
